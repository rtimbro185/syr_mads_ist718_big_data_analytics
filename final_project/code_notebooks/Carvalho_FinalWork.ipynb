{
  "nbformat": 4,
  "nbformat_minor": 0,
  "metadata": {
    "kernelspec": {
      "name": "python3",
      "display_name": "Python 3"
    },
    "colab": {
      "name": "Amanda_Carvalho_FinalWork.ipynb",
      "version": "0.3.2",
      "provenance": [],
      "collapsed_sections": [],
      "toc_visible": true,
      "machine_shape": "hm"
    },
    "accelerator": "GPU"
  },
  "cells": [
    {
      "cell_type": "code",
      "metadata": {
        "id": "D0BbfMGLGMUI",
        "colab_type": "code",
        "colab": {}
      },
      "source": [
        "# import packages for analysis and modeling\n",
        "import pandas as pd #data frame operations\n",
        "import numpy as np #arrays and math functions\n",
        "from scipy.stats import uniform #for training and test splits\n",
        "from scipy.stats import gaussian_kde as kde # for resampling dataset\n",
        "from scipy import stats #\n",
        "import statsmodels.formula.api as smf #R-like model specification\n",
        "import matplotlib.pyplot as plt #2D plotting\n",
        "%matplotlib inline\n",
        "plt.style.use('fivethirtyeight')\n",
        "import seaborn as sns #\n",
        "\n",
        "import warnings\n",
        "import timeit # for performance debugging\n",
        "import logging\n",
        "\n",
        "# set global properties\n",
        "dataDir = './data/'\n",
        "configDir = './config/'\n",
        "logOutDir = './log/'\n",
        "imageDir = './images/'\n",
        "modelBaselineDir = './models/baseline/'\n",
        "modelImprovedDir = './models/improved/'\n",
        "#loggerConfig = 'loggerConfig.yaml'\n",
        "loglevel = 10 # 10-DEBUG, 20-INFO, 30-WARNING, 40-ERROR, 50-CRITICAL\n",
        "\n",
        "# get a logger for troubleshooting / data exploration\n",
        "warnings.filterwarnings('ignore')"
      ],
      "execution_count": 0,
      "outputs": []
    },
    {
      "cell_type": "code",
      "metadata": {
        "id": "OZn82CUP5YGm",
        "colab_type": "code",
        "colab": {
          "base_uri": "https://localhost:8080/",
          "height": 122
        },
        "outputId": "f02d7144-4e55-441e-c542-7f6ceb4da1d6"
      },
      "source": [
        "from google.colab import drive\n",
        "drive.mount('/content/drive')"
      ],
      "execution_count": 2,
      "outputs": [
        {
          "output_type": "stream",
          "text": [
            "Go to this URL in a browser: https://accounts.google.com/o/oauth2/auth?client_id=947318989803-6bn6qk8qdgf4n4g3pfee6491hc0brc4i.apps.googleusercontent.com&redirect_uri=urn%3Aietf%3Awg%3Aoauth%3A2.0%3Aoob&scope=email%20https%3A%2F%2Fwww.googleapis.com%2Fauth%2Fdocs.test%20https%3A%2F%2Fwww.googleapis.com%2Fauth%2Fdrive%20https%3A%2F%2Fwww.googleapis.com%2Fauth%2Fdrive.photos.readonly%20https%3A%2F%2Fwww.googleapis.com%2Fauth%2Fpeopleapi.readonly&response_type=code\n",
            "\n",
            "Enter your authorization code:\n",
            "··········\n",
            "Mounted at /content/drive\n"
          ],
          "name": "stdout"
        }
      ]
    },
    {
      "cell_type": "code",
      "metadata": {
        "id": "GoXfzF0xGMUM",
        "colab_type": "code",
        "colab": {}
      },
      "source": [
        "# read in datasets\n",
        "import pickle\n",
        "# look for reduced memory dataset first\n",
        "isMemoryReductionTrain = False\n",
        "isMemoryReductionTest = False\n",
        "\n",
        "# training datasets # VESTA\n",
        "v_train_identity = pd.read_csv('/content/drive/My Drive/IST718/train_identity.csv')\n",
        "v_train_transaction = pd.read_csv('/content/drive/My Drive/IST718/train_transaction.csv')\n",
        "\n",
        "# merge VESTA training datasets\n",
        "v_train = pd.merge(v_train_transaction, v_train_identity, on='TransactionID', how='left') \n",
        "\n",
        "# free up memory of loaded datasets after merging\n",
        "v_train_identity = None\n",
        "v_train_transaction = None\n",
        "\n",
        "# testing datasets\n",
        "v_test_identity = pd.read_csv('/content/drive/My Drive/IST718/test_identity.csv')\n",
        "v_test_transaction = pd.read_csv('/content/drive/My Drive/IST718/test_transaction.csv')\n",
        "\n",
        "# merge test datasets\n",
        "v_test = pd.merge(v_test_transaction, v_test_identity, on='TransactionID', how='left')\n",
        "    \n",
        "# free up memory of loaded datasets after merging\n",
        "v_test_identity = None\n",
        "v_test_transaction = None\n"
      ],
      "execution_count": 0,
      "outputs": []
    },
    {
      "cell_type": "code",
      "metadata": {
        "scrolled": true,
        "id": "KLHTZK-7GMUO",
        "colab_type": "code",
        "colab": {
          "base_uri": "https://localhost:8080/",
          "height": 289
        },
        "outputId": "82f7400d-b314-44f6-8e08-3cf384daaae5"
      },
      "source": [
        "# perform exploratory data analysis techiques\n",
        "print(v_train.head())\n",
        "print(v_test.head())"
      ],
      "execution_count": 4,
      "outputs": [
        {
          "output_type": "stream",
          "text": [
            "   TransactionID  isFraud  ...  DeviceType                     DeviceInfo\n",
            "0        2987000        0  ...         NaN                            NaN\n",
            "1        2987001        0  ...         NaN                            NaN\n",
            "2        2987002        0  ...         NaN                            NaN\n",
            "3        2987003        0  ...         NaN                            NaN\n",
            "4        2987004        0  ...      mobile  SAMSUNG SM-G892A Build/NRD90M\n",
            "\n",
            "[5 rows x 434 columns]\n",
            "   TransactionID  TransactionDT  TransactionAmt  ... id_38  DeviceType  DeviceInfo\n",
            "0        3663549       18403224           31.95  ...   NaN         NaN         NaN\n",
            "1        3663550       18403263           49.00  ...   NaN         NaN         NaN\n",
            "2        3663551       18403310          171.00  ...   NaN         NaN         NaN\n",
            "3        3663552       18403310          284.95  ...   NaN         NaN         NaN\n",
            "4        3663553       18403317           67.95  ...   NaN         NaN         NaN\n",
            "\n",
            "[5 rows x 433 columns]\n"
          ],
          "name": "stdout"
        }
      ]
    },
    {
      "cell_type": "code",
      "metadata": {
        "id": "DzZSY-IvBykG",
        "colab_type": "code",
        "colab": {}
      },
      "source": [
        "americanexpress = v_train[v_train['card4'] == 'american express']\n",
        "mastercard = v_train[v_train['card4'] == 'mastercard']\n",
        "visa = v_train[v_train['card4'] == 'visa']\n",
        "mobile = v_train[v_train['DeviceType'] == 'mobile']\n",
        "desktop = v_train[v_train['DeviceType'] == 'desktop']\n",
        "debit = v_train[v_train['card6'] == 'debit']\n",
        "credit = v_train[v_train['card6'] == 'credit']\n",
        "\n",
        "ordered_card_names = ['American Express', 'Mastercard', 'Visa']\n",
        "ordered_card_type = ['Debit', 'Credit']\n",
        "ordered_device_type = ['Mobile', 'Desktop']"
      ],
      "execution_count": 0,
      "outputs": []
    },
    {
      "cell_type": "code",
      "metadata": {
        "id": "asJOJezRD_br",
        "colab_type": "code",
        "colab": {}
      },
      "source": [
        "data1 = [americanexpress['TransactionAmt'], mastercard['TransactionAmt'], \n",
        "    visa['TransactionAmt']]\n",
        "data2 = [mobile['TransactionAmt'], desktop['TransactionAmt']]\n",
        "data3 = [debit['TransactionAmt'], credit['TransactionAmt']]"
      ],
      "execution_count": 0,
      "outputs": []
    },
    {
      "cell_type": "code",
      "metadata": {
        "id": "y2s22BkvBJD7",
        "colab_type": "code",
        "colab": {
          "base_uri": "https://localhost:8080/",
          "height": 881
        },
        "outputId": "2e894d46-dc70-4809-caf5-6f692215d364"
      },
      "source": [
        "fig, axis = plt.subplots()\n",
        "axis.set_ylabel('Transaction Amount (thousands)')\n",
        "day_plot = plt.boxplot(data1, sym='o', vert=1, whis=1.5)\n",
        "plt.setp(day_plot['boxes'], color = 'black')    \n",
        "plt.setp(day_plot['whiskers'], color = 'black')    \n",
        "plt.setp(day_plot['fliers'], color = 'black', marker = 'o')\n",
        "axis.set_xticklabels(ordered_card_names)\n",
        "plt.show()\n",
        "\n",
        "fig, axis = plt.subplots()\n",
        "axis.set_ylabel('Transaction Amount (thousands)')\n",
        "day_plot = plt.boxplot(data2, sym='o', vert=1, whis=1.5)\n",
        "plt.setp(day_plot['boxes'], color = 'black')    \n",
        "plt.setp(day_plot['whiskers'], color = 'black')    \n",
        "plt.setp(day_plot['fliers'], color = 'black', marker = 'o')\n",
        "axis.set_xticklabels(ordered_card_type)\n",
        "plt.show()\n",
        "\n",
        "fig, axis = plt.subplots()\n",
        "axis.set_ylabel('Transaction Amount (thousands)')\n",
        "day_plot = plt.boxplot(data3, sym='o', vert=1, whis=1.5)\n",
        "plt.setp(day_plot['boxes'], color = 'black')    \n",
        "plt.setp(day_plot['whiskers'], color = 'black')    \n",
        "plt.setp(day_plot['fliers'], color = 'black', marker = 'o')\n",
        "axis.set_xticklabels(ordered_device_type)\n",
        "plt.show()"
      ],
      "execution_count": 7,
      "outputs": [
        {
          "output_type": "display_data",
          "data": {
            "image/png": "[encoded data removed]",
            "text/plain": [
              "<Figure size 432x288 with 1 Axes>"
            ]
          },
          "metadata": {
            "tags": []
          }
        },
        {
          "output_type": "display_data",
          "data": {
            "image/png": "[encoded data removed]",
            "text/plain": [
              "<Figure size 432x288 with 1 Axes>"
            ]
          },
          "metadata": {
            "tags": []
          }
        },
        {
          "output_type": "display_data",
          "data": {
            "image/png": "[encoded data removed]",
            "text/plain": [
              "<Figure size 432x288 with 1 Axes>"
            ]
          },
          "metadata": {
            "tags": []
          }
        }
      ]
    },
    {
      "cell_type": "code",
      "metadata": {
        "id": "8ux3Y4Xtxvvk",
        "colab_type": "code",
        "colab": {
          "base_uri": "https://localhost:8080/",
          "height": 301
        },
        "outputId": "01d3ef5f-8dcd-474a-be43-0ed2463aff78"
      },
      "source": [
        "#basic bar of device type\n",
        "%matplotlib inline\n",
        "import seaborn as sns\n",
        "import matplotlib.pyplot as plt\n",
        "counts = v_train['DeviceType'].value_counts()\n",
        "sns.set(style=\"darkgrid\")\n",
        "sns.barplot(counts.index, counts.values, alpha=0.9)\n",
        "plt.title('Frequency Distribution of Device Type')\n",
        "plt.ylabel('Number of Occurrences', fontsize=12)\n",
        "plt.xlabel('Device Type', fontsize=12)\n",
        "plt.show()"
      ],
      "execution_count": 8,
      "outputs": [
        {
          "output_type": "display_data",
          "data": {
            "image/png": "[encoded data removed]",
            "text/plain": [
              "<Figure size 432x288 with 1 Axes>"
            ]
          },
          "metadata": {
            "tags": []
          }
        }
      ]
    },
    {
      "cell_type": "markdown",
      "metadata": {
        "id": "gHqCwcaRGMUQ",
        "colab_type": "text"
      },
      "source": [
        "## Clustering Analysis"
      ]
    },
    {
      "cell_type": "code",
      "metadata": {
        "id": "hzWU8vpqGMUV",
        "colab_type": "code",
        "colab": {
          "base_uri": "https://localhost:8080/",
          "height": 289
        },
        "outputId": "f91fed05-93a5-4266-fbef-ee30fa856103"
      },
      "source": [
        "# examine proportion responding across levels \n",
        "# of categorical variables\n",
        "print(v_train.pivot_table(['isFraud'], index = ['card4']))\n",
        "print(v_train.pivot_table(['isFraud'], index = ['card6']))\n",
        "print(v_train.pivot_table(['isFraud'], index = ['DeviceType']))\n"
      ],
      "execution_count": 9,
      "outputs": [
        {
          "output_type": "stream",
          "text": [
            "                   isFraud\n",
            "card4                     \n",
            "american express  0.028698\n",
            "discover          0.077282\n",
            "mastercard        0.034331\n",
            "visa              0.034756\n",
            "                  isFraud\n",
            "card6                    \n",
            "charge card      0.000000\n",
            "credit           0.066785\n",
            "debit            0.024263\n",
            "debit or credit  0.000000\n",
            "             isFraud\n",
            "DeviceType          \n",
            "desktop     0.065215\n",
            "mobile      0.101662\n"
          ],
          "name": "stdout"
        }
      ]
    },
    {
      "cell_type": "code",
      "metadata": {
        "id": "-ZNBGxyezaGA",
        "colab_type": "code",
        "colab": {
          "base_uri": "https://localhost:8080/",
          "height": 238
        },
        "outputId": "fd2cb211-0f79-4723-c635-b3eafe5e1645"
      },
      "source": [
        "print(v_train[\"card4\"].value_counts())\n",
        "\n",
        "print(v_train[\"card6\"].value_counts())\n",
        "\n",
        "print(v_train[\"DeviceType\"].value_counts())"
      ],
      "execution_count": 10,
      "outputs": [
        {
          "output_type": "stream",
          "text": [
            "visa                384767\n",
            "mastercard          189217\n",
            "american express      8328\n",
            "discover              6651\n",
            "Name: card4, dtype: int64\n",
            "debit              439938\n",
            "credit             148986\n",
            "debit or credit        30\n",
            "charge card            15\n",
            "Name: card6, dtype: int64\n",
            "desktop    85165\n",
            "mobile     55645\n",
            "Name: DeviceType, dtype: int64\n"
          ],
          "name": "stdout"
        }
      ]
    },
    {
      "cell_type": "code",
      "metadata": {
        "id": "KMSvUWQ6SfsL",
        "colab_type": "code",
        "colab": {}
      },
      "source": [
        "v_train_min = v_train\n",
        "v_train_min = v_train[['TransactionID','isFraud','card4','card6',\n",
        "                                           'DeviceType','TransactionAmt','TransactionDT','P_emaildomain','R_emaildomain']]"
      ],
      "execution_count": 0,
      "outputs": []
    },
    {
      "cell_type": "markdown",
      "metadata": {
        "id": "AHRtTjJ3WkTB",
        "colab_type": "text"
      },
      "source": [
        "# K Means\n"
      ]
    },
    {
      "cell_type": "code",
      "metadata": {
        "id": "uNP9pQogSNI_",
        "colab_type": "code",
        "colab": {}
      },
      "source": [
        "def handle_non_numerical_data(df):\n",
        "    columns = df.columns.values\n",
        "\n",
        "    for column in columns:\n",
        "        text_digit_vals = {}\n",
        "        def convert_to_int(val):\n",
        "            return text_digit_vals[val]\n",
        "\n",
        "        if df[column].dtype != np.int64 and df[column].dtype != np.float64:\n",
        "            column_contents = df[column].values.tolist()\n",
        "            unique_elements = set(column_contents)\n",
        "            x = 0\n",
        "            for unique in unique_elements:\n",
        "                if unique not in text_digit_vals:\n",
        "                    text_digit_vals[unique] = x\n",
        "                    x+=1\n",
        "\n",
        "            df[column] = list(map(convert_to_int, df[column]))\n",
        "\n",
        "    return df\n",
        "\n",
        "v_train_min = handle_non_numerical_data(v_train_min)"
      ],
      "execution_count": 0,
      "outputs": []
    },
    {
      "cell_type": "code",
      "metadata": {
        "id": "4KtHwU5xYzy4",
        "colab_type": "code",
        "colab": {
          "base_uri": "https://localhost:8080/",
          "height": 153
        },
        "outputId": "e89e57b1-809f-4a9b-8c00-b5097cc1f9b2"
      },
      "source": [
        "print(v_train_min.tail())"
      ],
      "execution_count": 48,
      "outputs": [
        {
          "output_type": "stream",
          "text": [
            "        TransactionID  isFraud  ...  P_emaildomain  R_emaildomain\n",
            "590535        3577535        0  ...              0              0\n",
            "590536        3577536        0  ...             52              0\n",
            "590537        3577537        0  ...             52              0\n",
            "590538        3577538        0  ...              6              0\n",
            "590539        3577539        0  ...             52              0\n",
            "\n",
            "[5 rows x 9 columns]\n"
          ],
          "name": "stdout"
        }
      ]
    },
    {
      "cell_type": "code",
      "metadata": {
        "id": "CRZ8dtCdHEz4",
        "colab_type": "code",
        "colab": {
          "base_uri": "https://localhost:8080/",
          "height": 68
        },
        "outputId": "0a5ca8d9-9f5e-4ce2-8826-53b5b06893c1"
      },
      "source": [
        "from sklearn.cluster import KMeans\n",
        "X = np.array(v_train_min.drop(['isFraud'], 1).astype(float))\n",
        "y = np.array(v_train_min['isFraud'])\n",
        "\n",
        "clf = KMeans(n_clusters=2)\n",
        "clf.fit(v_train_min)"
      ],
      "execution_count": 50,
      "outputs": [
        {
          "output_type": "execute_result",
          "data": {
            "text/plain": [
              "KMeans(algorithm='auto', copy_x=True, init='k-means++', max_iter=300,\n",
              "       n_clusters=2, n_init=10, n_jobs=None, precompute_distances='auto',\n",
              "       random_state=None, tol=0.0001, verbose=0)"
            ]
          },
          "metadata": {
            "tags": []
          },
          "execution_count": 50
        }
      ]
    },
    {
      "cell_type": "code",
      "metadata": {
        "id": "P-Djv-gT_mYM",
        "colab_type": "code",
        "colab": {
          "base_uri": "https://localhost:8080/",
          "height": 375
        },
        "outputId": "fb48482f-2769-433a-cdfc-524430e1ad3a"
      },
      "source": [
        "correct = 0\n",
        "for i in range(len(X)):\n",
        "    predict_me = np.array(X[i].astype(float))\n",
        "    predict_me = predict_me.reshape(1, len(predict_me))\n",
        "    prediction = clf.predict(predict_me)\n",
        "    if prediction[0] == y[i]:\n",
        "        correct += 1\n",
        "\n",
        "print(correct/len(v_train_min))"
      ],
      "execution_count": 51,
      "outputs": [
        {
          "output_type": "error",
          "ename": "ValueError",
          "evalue": "ignored",
          "traceback": [
            "\u001b[0;31m---------------------------------------------------------------------------\u001b[0m",
            "\u001b[0;31mValueError\u001b[0m                                Traceback (most recent call last)",
            "\u001b[0;32m<ipython-input-51-14403d310969>\u001b[0m in \u001b[0;36m<module>\u001b[0;34m()\u001b[0m\n\u001b[1;32m      3\u001b[0m     \u001b[0mpredict_me\u001b[0m \u001b[0;34m=\u001b[0m \u001b[0mnp\u001b[0m\u001b[0;34m.\u001b[0m\u001b[0marray\u001b[0m\u001b[0;34m(\u001b[0m\u001b[0mX\u001b[0m\u001b[0;34m[\u001b[0m\u001b[0mi\u001b[0m\u001b[0;34m]\u001b[0m\u001b[0;34m.\u001b[0m\u001b[0mastype\u001b[0m\u001b[0;34m(\u001b[0m\u001b[0mfloat\u001b[0m\u001b[0;34m)\u001b[0m\u001b[0;34m)\u001b[0m\u001b[0;34m\u001b[0m\u001b[0;34m\u001b[0m\u001b[0m\n\u001b[1;32m      4\u001b[0m     \u001b[0mpredict_me\u001b[0m \u001b[0;34m=\u001b[0m \u001b[0mpredict_me\u001b[0m\u001b[0;34m.\u001b[0m\u001b[0mreshape\u001b[0m\u001b[0;34m(\u001b[0m\u001b[0;36m1\u001b[0m\u001b[0;34m,\u001b[0m \u001b[0mlen\u001b[0m\u001b[0;34m(\u001b[0m\u001b[0mpredict_me\u001b[0m\u001b[0;34m)\u001b[0m\u001b[0;34m)\u001b[0m\u001b[0;34m\u001b[0m\u001b[0;34m\u001b[0m\u001b[0m\n\u001b[0;32m----> 5\u001b[0;31m     \u001b[0mprediction\u001b[0m \u001b[0;34m=\u001b[0m \u001b[0mclf\u001b[0m\u001b[0;34m.\u001b[0m\u001b[0mpredict\u001b[0m\u001b[0;34m(\u001b[0m\u001b[0mpredict_me\u001b[0m\u001b[0;34m)\u001b[0m\u001b[0;34m\u001b[0m\u001b[0;34m\u001b[0m\u001b[0m\n\u001b[0m\u001b[1;32m      6\u001b[0m     \u001b[0;32mif\u001b[0m \u001b[0mprediction\u001b[0m\u001b[0;34m[\u001b[0m\u001b[0;36m0\u001b[0m\u001b[0;34m]\u001b[0m \u001b[0;34m==\u001b[0m \u001b[0my\u001b[0m\u001b[0;34m[\u001b[0m\u001b[0mi\u001b[0m\u001b[0;34m]\u001b[0m\u001b[0;34m:\u001b[0m\u001b[0;34m\u001b[0m\u001b[0;34m\u001b[0m\u001b[0m\n\u001b[1;32m      7\u001b[0m         \u001b[0mcorrect\u001b[0m \u001b[0;34m+=\u001b[0m \u001b[0;36m1\u001b[0m\u001b[0;34m\u001b[0m\u001b[0;34m\u001b[0m\u001b[0m\n",
            "\u001b[0;32m/usr/local/lib/python3.6/dist-packages/sklearn/cluster/k_means_.py\u001b[0m in \u001b[0;36mpredict\u001b[0;34m(self, X, sample_weight)\u001b[0m\n\u001b[1;32m   1075\u001b[0m         \u001b[0mcheck_is_fitted\u001b[0m\u001b[0;34m(\u001b[0m\u001b[0mself\u001b[0m\u001b[0;34m,\u001b[0m \u001b[0;34m'cluster_centers_'\u001b[0m\u001b[0;34m)\u001b[0m\u001b[0;34m\u001b[0m\u001b[0;34m\u001b[0m\u001b[0m\n\u001b[1;32m   1076\u001b[0m \u001b[0;34m\u001b[0m\u001b[0m\n\u001b[0;32m-> 1077\u001b[0;31m         \u001b[0mX\u001b[0m \u001b[0;34m=\u001b[0m \u001b[0mself\u001b[0m\u001b[0;34m.\u001b[0m\u001b[0m_check_test_data\u001b[0m\u001b[0;34m(\u001b[0m\u001b[0mX\u001b[0m\u001b[0;34m)\u001b[0m\u001b[0;34m\u001b[0m\u001b[0;34m\u001b[0m\u001b[0m\n\u001b[0m\u001b[1;32m   1078\u001b[0m         \u001b[0mx_squared_norms\u001b[0m \u001b[0;34m=\u001b[0m \u001b[0mrow_norms\u001b[0m\u001b[0;34m(\u001b[0m\u001b[0mX\u001b[0m\u001b[0;34m,\u001b[0m \u001b[0msquared\u001b[0m\u001b[0;34m=\u001b[0m\u001b[0;32mTrue\u001b[0m\u001b[0;34m)\u001b[0m\u001b[0;34m\u001b[0m\u001b[0;34m\u001b[0m\u001b[0m\n\u001b[1;32m   1079\u001b[0m         return _labels_inertia(X, sample_weight, x_squared_norms,\n",
            "\u001b[0;32m/usr/local/lib/python3.6/dist-packages/sklearn/cluster/k_means_.py\u001b[0m in \u001b[0;36m_check_test_data\u001b[0;34m(self, X)\u001b[0m\n\u001b[1;32m    938\u001b[0m             raise ValueError(\"Incorrect number of features. \"\n\u001b[1;32m    939\u001b[0m                              \"Got %d features, expected %d\" % (\n\u001b[0;32m--> 940\u001b[0;31m                                  n_features, expected_n_features))\n\u001b[0m\u001b[1;32m    941\u001b[0m \u001b[0;34m\u001b[0m\u001b[0m\n\u001b[1;32m    942\u001b[0m         \u001b[0;32mreturn\u001b[0m \u001b[0mX\u001b[0m\u001b[0;34m\u001b[0m\u001b[0;34m\u001b[0m\u001b[0m\n",
            "\u001b[0;31mValueError\u001b[0m: Incorrect number of features. Got 8 features, expected 9"
          ]
        }
      ]
    },
    {
      "cell_type": "code",
      "metadata": {
        "id": "_YliARBzVt0O",
        "colab_type": "code",
        "colab": {
          "base_uri": "https://localhost:8080/",
          "height": 34
        },
        "outputId": "36e3b05a-d054-464e-9633-74f926c0a2f9"
      },
      "source": [
        "from sklearn import preprocessing\n",
        "X = np.array(v_train_min.drop(['isFraud'], 1).astype(float))\n",
        "X = preprocessing.scale(v_train_min)\n",
        "y = np.array(v_train_min['isFraud'])\n",
        "\n",
        "clf = KMeans(n_clusters=2)\n",
        "clf.fit(v_train_min)\n",
        "\n",
        "correct = 0\n",
        "for i in range(len(X)):\n",
        "    predict_me = np.array(X[i].astype(float))\n",
        "    predict_me = predict_me.reshape(-1, len(predict_me))\n",
        "    prediction = clf.predict(predict_me)\n",
        "    if prediction[0] == y[i]:\n",
        "        correct += 1\n",
        "\n",
        "print(correct/len(v_train_min))"
      ],
      "execution_count": 52,
      "outputs": [
        {
          "output_type": "stream",
          "text": [
            "0.03499000914417313\n"
          ],
          "name": "stdout"
        }
      ]
    },
    {
      "cell_type": "code",
      "metadata": {
        "id": "B_6E3FOvQ-2J",
        "colab_type": "code",
        "colab": {
          "base_uri": "https://localhost:8080/",
          "height": 34
        },
        "outputId": "cb084087-79ab-4f9f-bacb-b4a7b67de5b0"
      },
      "source": [
        "X = np.array(v_train_min.drop(['isFraud', 'TransactionDT','P_emaildomain','R_emaildomain'], 1).astype(float))\n",
        "X = preprocessing.scale(v_train_min)\n",
        "y = np.array(v_train_min['isFraud'])\n",
        "\n",
        "clf = KMeans(n_clusters=2)\n",
        "clf.fit(v_train_min)\n",
        "\n",
        "correct = 0\n",
        "for i in range(len(X)):\n",
        "    predict_me = np.array(X[i].astype(float))\n",
        "    predict_me = predict_me.reshape(-1, len(predict_me))\n",
        "    prediction = clf.predict(predict_me)\n",
        "    if prediction[0] == y[i]:\n",
        "        correct += 1\n",
        "\n",
        "print(correct/len(v_train_min))"
      ],
      "execution_count": 53,
      "outputs": [
        {
          "output_type": "stream",
          "text": [
            "0.9650099908558268\n"
          ],
          "name": "stdout"
        }
      ]
    }
  ]
}