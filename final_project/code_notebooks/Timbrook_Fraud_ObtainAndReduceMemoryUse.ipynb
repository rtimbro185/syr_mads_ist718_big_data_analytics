{
 "cells": [
  {
   "cell_type": "markdown",
   "metadata": {
    "colab_type": "text",
    "id": "ksnTQVq85SQS"
   },
   "source": [
    "# Final Project\n",
    "Syracuse Applied Data Science, IST-718 Big Data Analytics  \n",
    "\n",
    "Team: AUQ-42\n",
    "Team Members:\n",
    "* Ryan Timbrook\n",
    "* Amanda Carvalho\n",
    "* Luigi Penaloza\n",
    "* Chikeung Cheung\n",
    "\n",
    "DATE:   \n",
    "ASSIGNMENT: IEEE-CIS Fraud Detection (kaggle competition)\n"
   ]
  },
  {
   "cell_type": "markdown",
   "metadata": {
    "colab_type": "text",
    "id": "0KeIg79B5SQX"
   },
   "source": [
    "## Business Question\n",
    "Improve the efficacy of fraudulent transaction alerts, helping hundreds of thousands of businesses reduce their fraud loss and increase their revenue; while securing consumer’s peace of mind and wallets!\n",
    "\n",
    "\n",
    "\n"
   ]
  },
  {
   "cell_type": "markdown",
   "metadata": {
    "colab_type": "text",
    "id": "iPk9kvxl5SQa"
   },
   "source": [
    "## Problems to solve\n",
    "Identify real-time fraudulent e-commerce transactions, using advanced Machine Learning algorithms, by automating alerts that block highly suspicious activities. "
   ]
  },
  {
   "cell_type": "markdown",
   "metadata": {
    "colab_type": "text",
    "id": "dGKelvb35SQc"
   },
   "source": [
    "## Why the problem is important\n",
    "Everyone who uses e-commerce technology and modern banking systems are at risk of being a victim of fraud. It costs both the individual as well as the merchant who offers refunds for fraudulent transactions; and not all scenarios are covered, leaving many individuals having to pay.  \n",
    "\n",
    "Chargebacks area a growing costly burden for merchants. By eliminating chargebacks, fines, and fees related to third-party fraud and unauthorized charges, the client, VESTA , is able to significantly reduce the operational costs and resources associated with complex chargeback management solutions and the specialized staff necessary for rapid, scalable business growth. This leaves all the cost risk on the client. Improving automated fraudulent detection technology will greatly reduce this cost.  \n",
    " "
   ]
  },
  {
   "cell_type": "markdown",
   "metadata": {
    "colab_type": "text",
    "id": "MUho8mcr5SQf"
   },
   "source": [
    "# About the Data\n",
    "The core data set for this project is provided by VESTA, the worlds leading payment service company, and is a kaggle competition being facilitated by the [IEEE Computational Intelligence Society](https://www.kaggle.com/c/ieee-fraud-detection/data).\n",
    "\n",
    "## [VESTA](https://www.kaggle.com/c/ieee-fraud-detection/data)\n",
    "Predicting the probability that an online transaction is fraudulent, as denoted by the binary target isFraud.  \n",
    "\n",
    "The data is broken into two files identity and transaction, which are joined by **TransactionID**. *Not all transactions have corresponding identity information.*\n",
    "\n",
    "#### Categorical Features - Transaction\n",
    "* ProductCD\n",
    "* card1 - card6\n",
    "* addr1, addr2\n",
    "* P_emaildomain\n",
    "* R_emaildomain\n",
    "* M1 - M9\n",
    "\n",
    "#### Categorical Features - Identity\n",
    "* DeviceType\n",
    "* DeviceInfo\n",
    "* id_12 - id_38\n",
    "\n",
    "*The TransactionDT feature is a timedelta from a given reference datetime (not an actual timestamp).*\n",
    "\n",
    "##### Files\n",
    "* train_{transaction, identity}.csv - the training set\n",
    "* test_{transaction, identity}.csv - the test set (you must predict the isFraud value for these observations)\n",
    "* sample_submission.csv - a sample submission file in the correct format\n",
    "\n",
    "## CCFD (kaggel)\n",
    "\n",
    "\n",
    "\n",
    "## FTC"
   ]
  },
  {
   "cell_type": "markdown",
   "metadata": {
    "colab_type": "text",
    "id": "LJcvU-ST5SQi"
   },
   "source": [
    "## Findings / Recommendations\n",
    "place findings and recommendations here  \n",
    "\n",
    "\n",
    "\n"
   ]
  },
  {
   "cell_type": "markdown",
   "metadata": {
    "colab_type": "text",
    "id": "Lb_epJ6V5SQl"
   },
   "source": []
  },
  {
   "cell_type": "markdown",
   "metadata": {
    "colab_type": "text",
    "id": "cCFE5GeM5SQn"
   },
   "source": [
    "### --------------------------------------------------------------------------------------------\n",
    "## Coding Environment Setup"
   ]
  },
  {
   "cell_type": "markdown",
   "metadata": {
    "colab_type": "text",
    "id": "azB9LXOx5SQq"
   },
   "source": [
    "# ONLY RUN WHEN WORKING ON COLAB"
   ]
  },
  {
   "cell_type": "code",
   "execution_count": 1,
   "metadata": {
    "colab": {},
    "colab_type": "code",
    "id": "UVNmFNTa5SQs"
   },
   "outputs": [],
   "source": [
    "# toggle for working with colab\n",
    "isColab = False"
   ]
  },
  {
   "cell_type": "code",
   "execution_count": null,
   "metadata": {
    "colab": {
     "base_uri": "https://localhost:8080/",
     "height": 108,
     "resources": {
      "http://localhost:8080/nbextensions/google.colab/files.js": {
       "data": "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",
       "headers": [
        [
         "content-type",
         "application/javascript"
        ]
       ],
       "ok": true,
       "status": 200,
       "status_text": ""
      }
     }
    },
    "colab_type": "code",
    "executionInfo": {
     "elapsed": 19699,
     "status": "ok",
     "timestamp": 1567383098809,
     "user": {
      "displayName": "Ryan Timbrook",
      "photoUrl": "https://lh3.googleusercontent.com/a-/AAuE7mCrQgAb2-QCV2l61dG1aiH3OOhFVhDRNoFaOeXi=s64",
      "userId": "00260589725959361994"
     },
     "user_tz": 420
    },
    "id": "L6MEjpYY5SQ2",
    "outputId": "37f8130e-042e-40db-baca-1365f0bb1912"
   },
   "outputs": [],
   "source": [
    "# mount google drive for working in colab\n",
    "from google.colab import drive\n",
    "drive.mount('/content/gdrive', force_remount=True)\n",
    "\n",
    "# working within colab, set base working directory\n",
    "base_dir = \"./gdrive/My Drive/IST718_PRJ_FraudDetection/workspace/\"\n",
    "\n",
    "# validate directory mapping\n",
    "#ls f'{base_dir}'\n",
    "\n",
    "# upload custome python files\n",
    "from google.colab import files\n",
    "uploaded_files = files.upload()\n",
    "\n",
    "# print files uploaded\n",
    "for f in uploaded_files.keys():\n",
    "  print(f'file name: {f}')\n",
    "\n",
    "isColab = True"
   ]
  },
  {
   "cell_type": "code",
   "execution_count": 2,
   "metadata": {
    "colab": {
     "base_uri": "https://localhost:8080/",
     "height": 34
    },
    "colab_type": "code",
    "executionInfo": {
     "elapsed": 5897,
     "status": "ok",
     "timestamp": 1567383108040,
     "user": {
      "displayName": "Ryan Timbrook",
      "photoUrl": "https://lh3.googleusercontent.com/a-/AAuE7mCrQgAb2-QCV2l61dG1aiH3OOhFVhDRNoFaOeXi=s64",
      "userId": "00260589725959361994"
     },
     "user_tz": 420
    },
    "id": "oCkD9BoZ5SQ-",
    "outputId": "0df38217-ceae-414c-d12b-db1294b55e89"
   },
   "outputs": [],
   "source": [
    "# import packages for analysis and modeling\n",
    "import pandas as pd #data frame operations\n",
    "import numpy as np #arrays and math functions\n",
    "\n",
    "import warnings\n",
    "warnings.filterwarnings('ignore')\n",
    "\n",
    "import logging\n",
    "logging.getLogger('tensorflow').disabled = True"
   ]
  },
  {
   "cell_type": "code",
   "execution_count": 3,
   "metadata": {
    "colab": {
     "base_uri": "https://localhost:8080/",
     "height": 34
    },
    "colab_type": "code",
    "executionInfo": {
     "elapsed": 1195,
     "status": "ok",
     "timestamp": 1567383112689,
     "user": {
      "displayName": "Ryan Timbrook",
      "photoUrl": "https://lh3.googleusercontent.com/a-/AAuE7mCrQgAb2-QCV2l61dG1aiH3OOhFVhDRNoFaOeXi=s64",
      "userId": "00260589725959361994"
     },
     "user_tz": 420
    },
    "id": "STed0DZE5SRG",
    "outputId": "254ce6ac-c87c-4550-8044-c8ad1e70c3a4"
   },
   "outputs": [
    {
     "name": "stdout",
     "output_type": "stream",
     "text": [
      "All the files are downloaded\n"
     ]
    }
   ],
   "source": [
    "# import custome packages\n",
    "import auq_42_utils as auq"
   ]
  },
  {
   "cell_type": "code",
   "execution_count": 4,
   "metadata": {
    "colab": {},
    "colab_type": "code",
    "id": "3d9Q_gyy5SRN"
   },
   "outputs": [],
   "source": [
    "# set global properties\n",
    "if not isColab:\n",
    "    dataDir = './data/'\n",
    "    outputDir = './output/'\n",
    "    configDir = './config/'\n",
    "    logOutDir = './logs/'\n",
    "    imageDir = './images/'\n",
    "    modelDir = './models/'\n",
    "else:\n",
    "    # working within colab\n",
    "    dataDir = f'{base_dir}/data/'\n",
    "    outputDir = f'{base_dir}/output/'\n",
    "    configDir = f'{base_dir}/config/'\n",
    "    logOutDir = f'{base_dir}/logs/'\n",
    "    imageDir = f'{base_dir}/images/'\n",
    "    modelDir = f'{base_dir}/models/'\n"
   ]
  },
  {
   "cell_type": "code",
   "execution_count": 5,
   "metadata": {
    "colab": {},
    "colab_type": "code",
    "id": "UY5cn82s5SRV"
   },
   "outputs": [],
   "source": [
    "# get a logger for troubleshooting / data exploration\n",
    "appName = 'rt_fraud_obtain_data' # sets the logger file name\n",
    "loglevel = 10 # 10-DEBUG, 20-INFO, 30-WARNING, 40-ERROR, 50-CRITICAL\n",
    "logger = auq.getFileLogger(logOutDir,appName,level=loglevel)"
   ]
  },
  {
   "cell_type": "markdown",
   "metadata": {
    "colab_type": "text",
    "id": "6w8CYU475SRi"
   },
   "source": [
    "## OBTAIN the data\n",
    "Import external datasets for evaluation"
   ]
  },
  {
   "cell_type": "markdown",
   "metadata": {
    "colab_type": "text",
    "id": "KzBthwxE5SRm"
   },
   "source": [
    "### Vesta Dataset\n",
    "#### IEEE-CIS Fraud Detection\n",
    "##### Can you detect fraud from customer transactions?\n",
    "* kaggle [link](https://www.kaggle.com/c/ieee-fraud-detection/data)"
   ]
  },
  {
   "cell_type": "markdown",
   "metadata": {
    "colab_type": "text",
    "id": "B4-d8cJA5SRq"
   },
   "source": [
    "## FTC Dataset"
   ]
  },
  {
   "cell_type": "markdown",
   "metadata": {
    "colab_type": "text",
    "id": "61ZdAEF25SRy"
   },
   "source": [
    "### Credit Card Fraud Detection\n",
    "#### Anonymized credit card transactions labeled as fraudulent or genuine\n",
    "* Kaggel [Link](https://kaggle.com/mlg-ulb/creditcardfraud)"
   ]
  },
  {
   "cell_type": "code",
   "execution_count": 6,
   "metadata": {
    "colab": {},
    "colab_type": "code",
    "id": "ekvkhLQM5SR3"
   },
   "outputs": [
    {
     "name": "stderr",
     "output_type": "stream",
     "text": [
      "v_train file not found... pulling data in from csv files\n",
      "v_test file not found... pulling data in from csv files\n"
     ]
    }
   ],
   "source": [
    "# read in datasets\n",
    "import pickle\n",
    "# look for reduced memory dataset first\n",
    "isMemoryReductionTrain = False\n",
    "isMemoryReductionTest = False\n",
    "\n",
    "# training datasets\n",
    "try:\n",
    "    with open(f'{dataDir}v_train.pkl','rb') as f:\n",
    "        v_train = pickle.load(f)\n",
    "        logger.info(f'saved pickled vesta train dataset found...')\n",
    "        isMemoryReductionTrain = True\n",
    "except FileNotFoundError:\n",
    "    logger.info('v_train file not found... pulling data in from csv files')\n",
    "    # VESTA\n",
    "    v_train_identity = pd.read_csv(f'{dataDir}ieee_train_identity.csv')\n",
    "    v_train_transaction = pd.read_csv(f'{dataDir}ieee_train_transaction.csv')\n",
    "    # merge VESTA training datasets\n",
    "    v_train = pd.merge(v_train_transaction, v_train_identity, on='TransactionID', how='left') \n",
    "    # free up memory of loaded datasets after merging\n",
    "    v_train_identity = None\n",
    "    v_train_transaction = None\n",
    "\n",
    "# testing datasets\n",
    "try:\n",
    "    with open(f'{dataDir}v_test.pkl','rb') as f:\n",
    "        v_test = pickle.load(f)\n",
    "        logger.info(f'saved pickled vesta testing dataset found...')\n",
    "        isMemoryReductionTest = True\n",
    "except FileNotFoundError:\n",
    "    logger.info('v_test file not found... pulling data in from csv files')\n",
    "    v_test_identity = pd.read_csv(f'{dataDir}ieee_test_identity.csv')\n",
    "    v_test_transaction = pd.read_csv(f'{dataDir}ieee_test_transaction.csv')\n",
    "    # merge test datasets\n",
    "    v_test = pd.merge(v_test_transaction, v_test_identity, on='TransactionID', how='left')\n",
    "    # free up memory of loaded datasets after merging\n",
    "    v_test_identity = None\n",
    "    v_test_transaction = None\n"
   ]
  },
  {
   "cell_type": "code",
   "execution_count": 7,
   "metadata": {
    "colab": {
     "base_uri": "https://localhost:8080/",
     "height": 190
    },
    "colab_type": "code",
    "executionInfo": {
     "elapsed": 30856,
     "status": "ok",
     "timestamp": 1567383327485,
     "user": {
      "displayName": "Ryan Timbrook",
      "photoUrl": "https://lh3.googleusercontent.com/a-/AAuE7mCrQgAb2-QCV2l61dG1aiH3OOhFVhDRNoFaOeXi=s64",
      "userId": "00260589725959361994"
     },
     "user_tz": 420
    },
    "id": "WQG_Ps3h5SSK",
    "outputId": "f485f048-77e6-49e9-d64c-b73f9112ced0"
   },
   "outputs": [
    {
     "name": "stderr",
     "output_type": "stream",
     "text": [
      "Vesta Train dataset shape: [(590540, 434)]\n",
      "Vesta Test dataset shape: [(506691, 433)]\n",
      "Vesta Train dataset Total NAN count: [115523073]\n",
      "Vesta Test dataset Total NAN count: [90186908]\n"
     ]
    }
   ],
   "source": [
    "# look at the datasets shaped\n",
    "logger.info(f'Vesta Train dataset shape: [{v_train.shape}]')\n",
    "logger.info(f'Vesta Test dataset shape: [{v_test.shape}]')\n",
    "logger.info(f'Vesta Train dataset Total NAN count: [{auq.getNaNCount(v_train)[0]}]')\n",
    "logger.info(f'Vesta Test dataset Total NAN count: [{auq.getNaNCount(v_test)[0]}]')"
   ]
  },
  {
   "cell_type": "code",
   "execution_count": 9,
   "metadata": {
    "colab": {},
    "colab_type": "code",
    "id": "0GhRVLhK5SSV",
    "outputId": "18d86e9b-8ff3-4776-af5d-e2ff413355dc"
   },
   "outputs": [
    {
     "name": "stderr",
     "output_type": "stream",
     "text": [
      "Vesta Train dataset column NANs [('card2', 8933), ('card3', 1565), ('card4', 1577), ('card5', 4259), ('card6', 1571), ('addr1', 65706), ('addr2', 65706), ('dist1', 352271), ('dist2', 552913), ('P_emaildomain', 94456), ('R_emaildomain', 453249), ('D1', 1269), ('D2', 280797), ('D3', 262878), ('D4', 168922), ('D5', 309841), ('D6', 517353), ('D7', 551623), ('D8', 515614), ('D9', 515614), ('D10', 76022), ('D11', 279287), ('D12', 525823), ('D13', 528588), ('D14', 528353), ('D15', 89113), ('M1', 271100), ('M2', 271100), ('M3', 271100), ('M4', 281444), ('M5', 350482), ('M6', 169360), ('M7', 346265), ('M8', 346252), ('M9', 346252), ('V1', 279287), ('V2', 279287), ('V3', 279287), ('V4', 279287), ('V5', 279287), ('V6', 279287), ('V7', 279287), ('V8', 279287), ('V9', 279287), ('V10', 279287), ('V11', 279287), ('V12', 76073), ('V13', 76073), ('V14', 76073), ('V15', 76073), ('V16', 76073), ('V17', 76073), ('V18', 76073), ('V19', 76073), ('V20', 76073), ('V21', 76073), ('V22', 76073), ('V23', 76073), ('V24', 76073), ('V25', 76073), ('V26', 76073), ('V27', 76073), ('V28', 76073), ('V29', 76073), ('V30', 76073), ('V31', 76073), ('V32', 76073), ('V33', 76073), ('V34', 76073), ('V35', 168969), ('V36', 168969), ('V37', 168969), ('V38', 168969), ('V39', 168969), ('V40', 168969), ('V41', 168969), ('V42', 168969), ('V43', 168969), ('V44', 168969), ('V45', 168969), ('V46', 168969), ('V47', 168969), ('V48', 168969), ('V49', 168969), ('V50', 168969), ('V51', 168969), ('V52', 168969), ('V53', 77096), ('V54', 77096), ('V55', 77096), ('V56', 77096), ('V57', 77096), ('V58', 77096), ('V59', 77096), ('V60', 77096), ('V61', 77096), ('V62', 77096), ('V63', 77096), ('V64', 77096), ('V65', 77096), ('V66', 77096), ('V67', 77096), ('V68', 77096), ('V69', 77096), ('V70', 77096), ('V71', 77096), ('V72', 77096), ('V73', 77096), ('V74', 77096), ('V75', 89164), ('V76', 89164), ('V77', 89164), ('V78', 89164), ('V79', 89164), ('V80', 89164), ('V81', 89164), ('V82', 89164), ('V83', 89164), ('V84', 89164), ('V85', 89164), ('V86', 89164), ('V87', 89164), ('V88', 89164), ('V89', 89164), ('V90', 89164), ('V91', 89164), ('V92', 89164), ('V93', 89164), ('V94', 89164), ('V95', 314), ('V96', 314), ('V97', 314), ('V98', 314), ('V99', 314), ('V100', 314), ('V101', 314), ('V102', 314), ('V103', 314), ('V104', 314), ('V105', 314), ('V106', 314), ('V107', 314), ('V108', 314), ('V109', 314), ('V110', 314), ('V111', 314), ('V112', 314), ('V113', 314), ('V114', 314), ('V115', 314), ('V116', 314), ('V117', 314), ('V118', 314), ('V119', 314), ('V120', 314), ('V121', 314), ('V122', 314), ('V123', 314), ('V124', 314), ('V125', 314), ('V126', 314), ('V127', 314), ('V128', 314), ('V129', 314), ('V130', 314), ('V131', 314), ('V132', 314), ('V133', 314), ('V134', 314), ('V135', 314), ('V136', 314), ('V137', 314), ('V138', 508595), ('V139', 508595), ('V140', 508595), ('V141', 508595), ('V142', 508595), ('V143', 508589), ('V144', 508589), ('V145', 508589), ('V146', 508595), ('V147', 508595), ('V148', 508595), ('V149', 508595), ('V150', 508589), ('V151', 508589), ('V152', 508589), ('V153', 508595), ('V154', 508595), ('V155', 508595), ('V156', 508595), ('V157', 508595), ('V158', 508595), ('V159', 508589), ('V160', 508589), ('V161', 508595), ('V162', 508595), ('V163', 508595), ('V164', 508589), ('V165', 508589), ('V166', 508589), ('V167', 450909), ('V168', 450909), ('V169', 450721), ('V170', 450721), ('V171', 450721), ('V172', 450909), ('V173', 450909), ('V174', 450721), ('V175', 450721), ('V176', 450909), ('V177', 450909), ('V178', 450909), ('V179', 450909), ('V180', 450721), ('V181', 450909), ('V182', 450909), ('V183', 450909), ('V184', 450721), ('V185', 450721), ('V186', 450909), ('V187', 450909), ('V188', 450721), ('V189', 450721), ('V190', 450909), ('V191', 450909), ('V192', 450909), ('V193', 450909), ('V194', 450721), ('V195', 450721), ('V196', 450909), ('V197', 450721), ('V198', 450721), ('V199', 450909), ('V200', 450721), ('V201', 450721), ('V202', 450909), ('V203', 450909), ('V204', 450909), ('V205', 450909), ('V206', 450909), ('V207', 450909), ('V208', 450721), ('V209', 450721), ('V210', 450721), ('V211', 450909), ('V212', 450909), ('V213', 450909), ('V214', 450909), ('V215', 450909), ('V216', 450909), ('V217', 460110), ('V218', 460110), ('V219', 460110), ('V220', 449124), ('V221', 449124), ('V222', 449124), ('V223', 460110), ('V224', 460110), ('V225', 460110), ('V226', 460110), ('V227', 449124), ('V228', 460110), ('V229', 460110), ('V230', 460110), ('V231', 460110), ('V232', 460110), ('V233', 460110), ('V234', 449124), ('V235', 460110), ('V236', 460110), ('V237', 460110), ('V238', 449124), ('V239', 449124), ('V240', 460110), ('V241', 460110), ('V242', 460110), ('V243', 460110), ('V244', 460110), ('V245', 449124), ('V246', 460110), ('V247', 460110), ('V248', 460110), ('V249', 460110), ('V250', 449124), ('V251', 449124), ('V252', 460110), ('V253', 460110), ('V254', 460110), ('V255', 449124), ('V256', 449124), ('V257', 460110), ('V258', 460110), ('V259', 449124), ('V260', 460110), ('V261', 460110), ('V262', 460110), ('V263', 460110), ('V264', 460110), ('V265', 460110), ('V266', 460110), ('V267', 460110), ('V268', 460110), ('V269', 460110), ('V270', 449124), ('V271', 449124), ('V272', 449124), ('V273', 460110), ('V274', 460110), ('V275', 460110), ('V276', 460110), ('V277', 460110), ('V278', 460110), ('V279', 12), ('V280', 12), ('V281', 1269), ('V282', 1269), ('V283', 1269), ('V284', 12), ('V285', 12), ('V286', 12), ('V287', 12), ('V288', 1269), ('V289', 1269), ('V290', 12), ('V291', 12), ('V292', 12), ('V293', 12), ('V294', 12), ('V295', 12), ('V296', 1269), ('V297', 12), ('V298', 12), ('V299', 12), ('V300', 1269), ('V301', 1269), ('V302', 12), ('V303', 12), ('V304', 12), ('V305', 12), ('V306', 12), ('V307', 12), ('V308', 12), ('V309', 12), ('V310', 12), ('V311', 12), ('V312', 12), ('V313', 1269), ('V314', 1269), ('V315', 1269), ('V316', 12), ('V317', 12), ('V318', 12), ('V319', 12), ('V320', 12), ('V321', 12), ('V322', 508189), ('V323', 508189), ('V324', 508189), ('V325', 508189), ('V326', 508189), ('V327', 508189), ('V328', 508189), ('V329', 508189), ('V330', 508189), ('V331', 508189), ('V332', 508189), ('V333', 508189), ('V334', 508189), ('V335', 508189), ('V336', 508189), ('V337', 508189), ('V338', 508189), ('V339', 508189), ('id_01', 446307), ('id_02', 449668), ('id_03', 524216), ('id_04', 524216), ('id_05', 453675), ('id_06', 453675), ('id_07', 585385), ('id_08', 585385), ('id_09', 515614), ('id_10', 515614), ('id_11', 449562), ('id_12', 446307), ('id_13', 463220), ('id_14', 510496), ('id_15', 449555), ('id_16', 461200), ('id_17', 451171), ('id_18', 545427), ('id_19', 451222), ('id_20', 451279), ('id_21', 585381), ('id_22', 585371), ('id_23', 585371), ('id_24', 585793), ('id_25', 585408), ('id_26', 585377), ('id_27', 585371), ('id_28', 449562), ('id_29', 449562), ('id_30', 512975), ('id_31', 450258), ('id_32', 512954), ('id_33', 517251), ('id_34', 512735), ('id_35', 449555), ('id_36', 449555), ('id_37', 449555), ('id_38', 449555), ('DeviceType', 449730), ('DeviceInfo', 471874)]\n"
     ]
    }
   ],
   "source": [
    "# which columns have NaN fields, and how many are there\n",
    "logger.info(f'Vesta Train dataset column NANs {auq.getColumnsNaNCnts(v_train, logger)}')"
   ]
  },
  {
   "cell_type": "markdown",
   "metadata": {
    "colab_type": "text",
    "id": "eLwo8mu75SSd"
   },
   "source": [
    "## SCRUB / CLEAN\n",
    "Clean and perform initial transformations steps of the data"
   ]
  },
  {
   "cell_type": "markdown",
   "metadata": {},
   "source": [
    "### Run Memory Reduction Pre-Processing\n",
    "**Session memory after loading datasets was 11 GB. After running memory reduction steps it's 1.3 GB"
   ]
  },
  {
   "cell_type": "code",
   "execution_count": 10,
   "metadata": {},
   "outputs": [
    {
     "name": "stderr",
     "output_type": "stream",
     "text": [
      "Before Reduction Memory Usage: VESTA Training Dataset:[2584.98 MB]\n",
      "converted [0] of [434] columns in time [4.500000000007276e-05]\n",
      "converted [20] of [434] columns in time [9.480417699999975]\n",
      "converted [40] of [434] columns in time [22.199514499999964]\n",
      "converted [60] of [434] columns in time [34.50245589999997]\n",
      "converted [80] of [434] columns in time [47.18627500000002]\n",
      "converted [100] of [434] columns in time [60.533856300000025]\n",
      "converted [120] of [434] columns in time [72.86636939999994]\n",
      "converted [140] of [434] columns in time [83.92050119999999]\n",
      "converted [160] of [434] columns in time [95.95080859999996]\n",
      "converted [180] of [434] columns in time [105.02796739999997]\n",
      "converted [200] of [434] columns in time [113.17697569999996]\n",
      "converted [220] of [434] columns in time [122.79845479999994]\n",
      "converted [240] of [434] columns in time [129.82537979999995]\n",
      "converted [260] of [434] columns in time [136.30953239999997]\n",
      "converted [280] of [434] columns in time [142.15557360000003]\n",
      "converted [300] of [434] columns in time [149.06363169999997]\n",
      "converted [320] of [434] columns in time [153.02771080000002]\n",
      "converted [340] of [434] columns in time [156.31349869999997]\n",
      "converted [360] of [434] columns in time [158.76541639999994]\n",
      "converted [380] of [434] columns in time [160.55488489999993]\n",
      "converted [400] of [434] columns in time [161.61723899999993]\n",
      "converted [420] of [434] columns in time [163.70502399999998]\n",
      "After Reduction Memory Usage: VESTA Training Dataset:[530.22 MB]\n",
      "Before Reduction Memory Usage: VESTA Testing Dataset: [2230.88 MB]\n",
      "converted [0] of [433] columns in time [6.0200000007171184e-05]\n",
      "converted [20] of [433] columns in time [10.828526699999998]\n",
      "converted [40] of [433] columns in time [26.345765400000005]\n",
      "converted [60] of [433] columns in time [37.785543200000006]\n",
      "converted [80] of [433] columns in time [49.56951099999992]\n",
      "converted [100] of [433] columns in time [62.07321439999998]\n",
      "converted [120] of [433] columns in time [71.9669192]\n",
      "converted [140] of [433] columns in time [81.50993099999994]\n",
      "converted [160] of [433] columns in time [91.59350619999998]\n",
      "converted [180] of [433] columns in time [99.07233250000002]\n",
      "converted [200] of [433] columns in time [105.8851684]\n",
      "converted [220] of [433] columns in time [112.64773159999993]\n",
      "converted [240] of [433] columns in time [118.34710079999991]\n",
      "converted [260] of [433] columns in time [123.51884849999999]\n",
      "converted [280] of [433] columns in time [128.24837739999998]\n",
      "converted [300] of [433] columns in time [132.1790848999999]\n",
      "converted [320] of [433] columns in time [135.42486109999993]\n",
      "converted [340] of [433] columns in time [138.14135269999997]\n",
      "converted [360] of [433] columns in time [140.14455279999993]\n",
      "converted [380] of [433] columns in time [142.19610669999997]\n",
      "converted [400] of [433] columns in time [143.7087629]\n",
      "converted [420] of [433] columns in time [146.6541431999999]\n",
      "After Reduction Memory Usage: VESTA Testing Dataset: [462.26 MB]\n"
     ]
    }
   ],
   "source": [
    "# run memory reduction\n",
    "if not isMemoryReductionTrain:\n",
    "    logger.info(f'Before Reduction Memory Usage: VESTA Training Dataset:[{auq.mem_usage(v_train)}]')\n",
    "    v_train = auq.reduce_df_memory(v_train, logger)\n",
    "    auq.save_df(v_train, f'{dataDir}v_train.pkl', logger)\n",
    "    logger.info(f'After Reduction Memory Usage: VESTA Training Dataset:[{auq.mem_usage(v_train)}]')\n",
    "if not isMemoryReductionTest:\n",
    "    logger.info(f'Before Reduction Memory Usage: VESTA Testing Dataset: [{auq.mem_usage(v_test)}]')\n",
    "    v_test = auq.reduce_df_memory(v_test, logger)\n",
    "    auq.save_df(v_test, f'{dataDir}v_test.pkl', logger)\n",
    "    logger.info(f'After Reduction Memory Usage: VESTA Testing Dataset: [{auq.mem_usage(v_test)}]')"
   ]
  },
  {
   "cell_type": "markdown",
   "metadata": {
    "colab_type": "text",
    "id": "hbTwwkse5SSl"
   },
   "source": [
    "## EXPLORE\n",
    "Explore the datasets"
   ]
  },
  {
   "cell_type": "code",
   "execution_count": 11,
   "metadata": {
    "colab": {},
    "colab_type": "code",
    "id": "hja-zVK95SSn"
   },
   "outputs": [
    {
     "name": "stderr",
     "output_type": "stream",
     "text": [
      "Index(['TransactionID', 'isFraud', 'TransactionDT', 'TransactionAmt',\n",
      "       'ProductCD', 'card1', 'card2', 'card3', 'card4', 'card5',\n",
      "       ...\n",
      "       'id_31', 'id_32', 'id_33', 'id_34', 'id_35', 'id_36', 'id_37', 'id_38',\n",
      "       'DeviceType', 'DeviceInfo'],\n",
      "      dtype='object', length=434)\n",
      "   TransactionID  isFraud  TransactionDT  TransactionAmt ProductCD  card1  \\\n",
      "0        2987000        0          86400            68.5         W  13926   \n",
      "1        2987001        0          86401            29.0         W   2755   \n",
      "2        2987002        0          86469            59.0         W   4663   \n",
      "3        2987003        0          86499            50.0         W  18132   \n",
      "4        2987004        0          86506            50.0         H   4497   \n",
      "\n",
      "   card2  card3       card4  card5  ...                id_31  id_32  \\\n",
      "0    NaN  150.0    discover  142.0  ...                  NaN    NaN   \n",
      "1  404.0  150.0  mastercard  102.0  ...                  NaN    NaN   \n",
      "2  490.0  150.0        visa  166.0  ...                  NaN    NaN   \n",
      "3  567.0  150.0  mastercard  117.0  ...                  NaN    NaN   \n",
      "4  514.0  150.0  mastercard  102.0  ...  samsung browser 6.2   32.0   \n",
      "\n",
      "       id_33           id_34  id_35 id_36 id_37  id_38  DeviceType  \\\n",
      "0        NaN             NaN    NaN   NaN   NaN    NaN         NaN   \n",
      "1        NaN             NaN    NaN   NaN   NaN    NaN         NaN   \n",
      "2        NaN             NaN    NaN   NaN   NaN    NaN         NaN   \n",
      "3        NaN             NaN    NaN   NaN   NaN    NaN         NaN   \n",
      "4  2220x1080  match_status:2      T     F     T      T      mobile   \n",
      "\n",
      "                      DeviceInfo  \n",
      "0                            NaN  \n",
      "1                            NaN  \n",
      "2                            NaN  \n",
      "3                            NaN  \n",
      "4  SAMSUNG SM-G892A Build/NRD90M  \n",
      "\n",
      "[5 rows x 434 columns]\n",
      "   TransactionID  TransactionDT  TransactionAmt ProductCD  card1  card2  \\\n",
      "0        3663549       18403224       31.953125         W  10409  111.0   \n",
      "1        3663550       18403263       49.000000         W   4272  111.0   \n",
      "2        3663551       18403310      171.000000         W   4476  574.0   \n",
      "3        3663552       18403310      285.000000         W  10989  360.0   \n",
      "4        3663553       18403317       67.937500         W  18018  452.0   \n",
      "\n",
      "   card3       card4  card5  card6  ...  id_31  id_32  id_33  id_34 id_35  \\\n",
      "0  150.0        visa  226.0  debit  ...    NaN    NaN    NaN    NaN   NaN   \n",
      "1  150.0        visa  226.0  debit  ...    NaN    NaN    NaN    NaN   NaN   \n",
      "2  150.0        visa  226.0  debit  ...    NaN    NaN    NaN    NaN   NaN   \n",
      "3  150.0        visa  166.0  debit  ...    NaN    NaN    NaN    NaN   NaN   \n",
      "4  150.0  mastercard  117.0  debit  ...    NaN    NaN    NaN    NaN   NaN   \n",
      "\n",
      "  id_36  id_37  id_38  DeviceType  DeviceInfo  \n",
      "0   NaN    NaN    NaN         NaN         NaN  \n",
      "1   NaN    NaN    NaN         NaN         NaN  \n",
      "2   NaN    NaN    NaN         NaN         NaN  \n",
      "3   NaN    NaN    NaN         NaN         NaN  \n",
      "4   NaN    NaN    NaN         NaN         NaN  \n",
      "\n",
      "[5 rows x 433 columns]\n"
     ]
    }
   ],
   "source": [
    "# perform exploratory data analysis techiques\n",
    "logger.info(v_train.columns)\n",
    "logger.info(v_train.head())\n",
    "logger.info(v_test.head())"
   ]
  },
  {
   "cell_type": "markdown",
   "metadata": {},
   "source": [
    "### Base Feature Engineering / Transformation\n"
   ]
  },
  {
   "cell_type": "code",
   "execution_count": null,
   "metadata": {},
   "outputs": [],
   "source": [
    "# explore feature importance using Random Forest Classifier"
   ]
  },
  {
   "cell_type": "markdown",
   "metadata": {
    "colab_type": "text",
    "id": "mJowfZqT5SSs"
   },
   "source": [
    "### MODEL\n",
    "Create models"
   ]
  },
  {
   "cell_type": "code",
   "execution_count": null,
   "metadata": {
    "colab": {},
    "colab_type": "code",
    "id": "B_91ujR85SSu"
   },
   "outputs": [],
   "source": [
    "# perform model creation and validation techniques"
   ]
  },
  {
   "cell_type": "markdown",
   "metadata": {
    "colab_type": "text",
    "id": "FvgPf6G05SS0"
   },
   "source": [
    "#### Model Validation\n",
    "Perform model validations"
   ]
  },
  {
   "cell_type": "markdown",
   "metadata": {
    "colab_type": "text",
    "id": "G4LzCgXN5SS2"
   },
   "source": [
    "### iNterpret\n",
    "Interpret the model results, make knowledge based recommendations"
   ]
  },
  {
   "cell_type": "code",
   "execution_count": null,
   "metadata": {
    "colab": {},
    "colab_type": "code",
    "id": "14-l-RjR5SS4"
   },
   "outputs": [],
   "source": [
    "# perform interpretation steps"
   ]
  },
  {
   "cell_type": "markdown",
   "metadata": {
    "colab_type": "text",
    "id": "YdPwLhcl5SS-"
   },
   "source": [
    "## -----------------------------------------------------------------------------\n",
    "## Custome Class Objects - Run these sections first\n",
    "## -----------------------------------------------------------------------------"
   ]
  },
  {
   "cell_type": "code",
   "execution_count": null,
   "metadata": {
    "colab": {},
    "colab_type": "code",
    "id": "bC6x_r185STA"
   },
   "outputs": [],
   "source": [
    "# classes"
   ]
  },
  {
   "cell_type": "markdown",
   "metadata": {
    "colab_type": "text",
    "id": "AORzKkyb5STG"
   },
   "source": [
    "## -----------------------------------------------------------------------------\n",
    "## Local Utility Functions - Run these sections second\n",
    "## -----------------------------------------------------------------------------"
   ]
  },
  {
   "cell_type": "code",
   "execution_count": null,
   "metadata": {
    "colab": {},
    "colab_type": "code",
    "id": "4FQ2UW4j5STI"
   },
   "outputs": [],
   "source": [
    "# functions\n"
   ]
  }
 ],
 "metadata": {
  "accelerator": "GPU",
  "colab": {
   "collapsed_sections": [],
   "name": "rtimbrook_final_project_dev.ipynb",
   "provenance": [],
   "toc_visible": true,
   "version": "0.3.2"
  },
  "kernelspec": {
   "display_name": "ist718_keras",
   "language": "python",
   "name": "ist718_keras"
  },
  "language_info": {
   "codemirror_mode": {
    "name": "ipython",
    "version": 3
   },
   "file_extension": ".py",
   "mimetype": "text/x-python",
   "name": "python",
   "nbconvert_exporter": "python",
   "pygments_lexer": "ipython3",
   "version": "3.7.4"
  }
 },
 "nbformat": 4,
 "nbformat_minor": 1
}
